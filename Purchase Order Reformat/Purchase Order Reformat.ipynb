{
 "cells": [
  {
   "cell_type": "code",
   "execution_count": null,
   "id": "9c9e101d",
   "metadata": {},
   "outputs": [],
   "source": [
    "import pandas as pd\n",
    "import re\n",
    "import glob"
   ]
  },
  {
   "cell_type": "code",
   "execution_count": null,
   "id": "6bef9c8b",
   "metadata": {},
   "outputs": [],
   "source": [
    "# 運用glob取得當前目錄所有txt檔\n",
    "files = glob.glob(\"*.txt\")\n",
    "\n",
    "#　Create a function which add on number for grouping each order batch later\n",
    "def order_with_num(df):\n",
    "    n = 0\n",
    "    num_col = []\n",
    "    for i in df[1]:\n",
    "        if i[0] == \"M\":\n",
    "            n += 1\n",
    "            num_col.append(n)\n",
    "        else:\n",
    "            num_col.append(None)\n",
    "    return num_col\n",
    "\n",
    "# 執行code，檢查有無檔案\n",
    "if len(files)>0:\n",
    "    for file in files:\n",
    "        name = file.split(\".\")[0]\n",
    "        df = pd.read_csv(file, sep=r\"\\s+\", header=None, names=[1,2,3,4,5,6,7])\n",
    "\n",
    "        # 將號碼放入dataframe裡面，以front fill方式補上缺值\n",
    "        df.insert(0, 0, order_with_num(df))\n",
    "        df[0].fillna(method=\"ffill\", inplace=True)\n",
    "\n",
    "        # 分離成supplier、product兩個資料，為避免column名稱重複而降低可讀性，將product欄位重新定義\n",
    "        df_sup = df.loc[df[1].str.contains(\"M\")]\n",
    "        df_pro = df.loc[df[1].str.contains(\"D\")]\n",
    "        df_pro.columns = [0, 8, 9, 10, 11, 12, 13, 14]\n",
    "\n",
    "        # 以訂單編號為鍵，採LeftJoin方式將兩個資料merge在一起\n",
    "        df_merged = pd.merge(df_sup, df_pro, how=\"left\", on=0)\n",
    "\n",
    "        # 進行簡單處理後，僅保留需要欄位\n",
    "        df_merged[15] = df_merged[4].apply(lambda x:x[8:])\n",
    "        df_merged[4] = df_merged[4].apply(lambda x:x[:8])\n",
    "        df_merged[8] = df_merged[8].apply(lambda x:x[1:])\n",
    "\n",
    "        cols = [3,15,4,6,8,12,13]\n",
    "        df_merged = df_merged[cols]\n",
    "        df_merged.columns = [u\"採購單號碼\", u\"廠商代碼\", u\"採購日期\", u\"送達期限\", u\"項目代號\", u\"採購數量\", u\"單位\"]\n",
    "\n",
    "        # print出結果，確認是否執行成功\n",
    "        print(df_merged)\n",
    "\n",
    "        # 輸出成為excel檔\n",
    "        df_merged.to_excel(f\"{name}.xlsx\", index=False)\n",
    "\n",
    "else:\n",
    "    print(\"Oops!找不到檔案，請確認是否上傳\")"
   ]
  }
 ],
 "metadata": {
  "kernelspec": {
   "display_name": "Python 3",
   "language": "python",
   "name": "python3"
  },
  "language_info": {
   "codemirror_mode": {
    "name": "ipython",
    "version": 3
   },
   "file_extension": ".py",
   "mimetype": "text/x-python",
   "name": "python",
   "nbconvert_exporter": "python",
   "pygments_lexer": "ipython3",
   "version": "3.6.8"
  },
  "toc": {
   "base_numbering": 1,
   "nav_menu": {},
   "number_sections": true,
   "sideBar": true,
   "skip_h1_title": false,
   "title_cell": "Table of Contents",
   "title_sidebar": "Contents",
   "toc_cell": false,
   "toc_position": {},
   "toc_section_display": true,
   "toc_window_display": false
  },
  "varInspector": {
   "cols": {
    "lenName": 16,
    "lenType": 16,
    "lenVar": 40
   },
   "kernels_config": {
    "python": {
     "delete_cmd_postfix": "",
     "delete_cmd_prefix": "del ",
     "library": "var_list.py",
     "varRefreshCmd": "print(var_dic_list())"
    },
    "r": {
     "delete_cmd_postfix": ") ",
     "delete_cmd_prefix": "rm(",
     "library": "var_list.r",
     "varRefreshCmd": "cat(var_dic_list()) "
    }
   },
   "types_to_exclude": [
    "module",
    "function",
    "builtin_function_or_method",
    "instance",
    "_Feature"
   ],
   "window_display": false
  }
 },
 "nbformat": 4,
 "nbformat_minor": 5
}
