{
 "cells": [
  {
   "cell_type": "markdown",
   "id": "3e5e3e67",
   "metadata": {},
   "source": [
    "### import packages"
   ]
  },
  {
   "cell_type": "code",
   "execution_count": null,
   "id": "e904f4dd",
   "metadata": {},
   "outputs": [],
   "source": [
    "import pandas as pd\n",
    "import numpy as np\n",
    "import matplotlib.pyplot as plt\n",
    "import re"
   ]
  },
  {
   "cell_type": "markdown",
   "id": "53d56251",
   "metadata": {},
   "source": [
    "### 讀取檔案\n",
    "- 讀取第一頁為默認值，若檔案有多頁可加上sheet_name來指定exel頁面"
   ]
  },
  {
   "cell_type": "code",
   "execution_count": null,
   "id": "138ec1da",
   "metadata": {},
   "outputs": [],
   "source": [
    "filename = \"/Users/tim/Desktop/Python_Pandas practice projects/tp/庫存資料.xlsx\"\n",
    "df = pd.read_excel(filename, sheet_name=\"Sheet1\")\n",
    "df.head()"
   ]
  },
  {
   "cell_type": "code",
   "execution_count": null,
   "id": "b3b0d776",
   "metadata": {},
   "outputs": [],
   "source": []
  },
  {
   "cell_type": "markdown",
   "id": "a9cf1cf8",
   "metadata": {},
   "source": [
    "###  資料清理\n",
    "■　Target　→　品名、欄位\n",
    "   * 因資料頂端有頁次、日期等非必要元素，導致初始欄位不正確\n",
    "   * 重新定義欄位名稱（將第4列轉為list)\n"
   ]
  },
  {
   "cell_type": "code",
   "execution_count": null,
   "id": "fe3f6488",
   "metadata": {},
   "outputs": [],
   "source": [
    "df.columns = list(df.iloc[4, :])\n",
    "df.columns = df.columns.str.strip()\n",
    "df[\"品名\"] = df[\"品名\"].str.strip()"
   ]
  },
  {
   "cell_type": "code",
   "execution_count": null,
   "id": "3b8062a2",
   "metadata": {},
   "outputs": [],
   "source": []
  },
  {
   "cell_type": "markdown",
   "id": "43fd2a40",
   "metadata": {},
   "source": [
    "■　Target → 選取需要欄位&去除Null值"
   ]
  },
  {
   "cell_type": "code",
   "execution_count": null,
   "id": "80cfd1fc",
   "metadata": {},
   "outputs": [],
   "source": [
    "cols = list(df.columns)\n",
    "df = df[cols[0:4] + [cols[-1]]].dropna()"
   ]
  },
  {
   "cell_type": "code",
   "execution_count": null,
   "id": "de750512",
   "metadata": {},
   "outputs": [],
   "source": []
  },
  {
   "cell_type": "markdown",
   "id": "b0dfb1da",
   "metadata": {},
   "source": [
    "■　Target → 倉庫 (留下TC1A00，捨棄期貨倉＆東興倉，但部分品項需調整)\n",
    "   * 部分品項(BOPP(L)、CPP、鋁箔、PET)，需計入期貨倉，因此先進行倉庫名調整方便後續統計\n",
    "   * PET12u將期貨倉合併計入，但PET藥袋23u僅算現貨倉\n",
    "   * 完成調整後，僅保存TC1A00資料"
   ]
  },
  {
   "cell_type": "code",
   "execution_count": null,
   "id": "09c02b8c",
   "metadata": {},
   "outputs": [],
   "source": [
    "df.loc[(df[\"品名\"] == \"BOPP(L)\"), \"倉庫\"] = \"TC1A00\"\n",
    "df.loc[(df[\"品名\"] == \"CPP\"), \"倉庫\"] = \"TC1A00\"\n",
    "df.loc[(df[\"品名\"].str.contains(\"FOIL\")), \"倉庫\"] = \"TC1A00\"\n",
    "df.loc[(df[\"品名\"] == \"PET\") & (df[\"規格\"].str.contains(\"^012\")), \"倉庫\"] = \"TC1A00\"\n",
    "df = df[df[\"倉庫\"] == \"TC1A00\"]"
   ]
  },
  {
   "cell_type": "code",
   "execution_count": null,
   "id": "35f1b3fb",
   "metadata": {},
   "outputs": [],
   "source": []
  },
  {
   "cell_type": "markdown",
   "id": "ebc8f5f8",
   "metadata": {},
   "source": [
    "■　Target → 營一部產品 (建立除去名單list，用”~“加上.isin()來過濾掉不需要的產品)\n",
    " * 完成後重新設定index，資料看起來較美觀\n"
   ]
  },
  {
   "cell_type": "code",
   "execution_count": null,
   "id": "f8365fe4",
   "metadata": {},
   "outputs": [],
   "source": [
    "unnecessary_list = ['X-70201S 離型劑', 'BOPP(HSD12)', 'PET(C)', \"低靜電高爽滑 CPP\", 'PET(H)', 'M.W.PET(I)', '矽利光離型MWPET(輕/藍/四國語言', \"品名\"]\n",
    "df = df[~df[\"品名\"].isin(unnecessary_list)]\n",
    "df.reset_index(drop=True, inplace=True)"
   ]
  },
  {
   "cell_type": "code",
   "execution_count": null,
   "id": "352cd786",
   "metadata": {},
   "outputs": [],
   "source": []
  },
  {
   "cell_type": "markdown",
   "id": "95b2700e",
   "metadata": {},
   "source": [
    "■　Target → 規格（從中分出厚度欄位，規格欄位僅保留長度\n",
    "   * 從規格欄位分出厚度欄位 ==> 用\"x\"來分割，留下厚度=index[0]\n",
    "   * 重新定義規格==> 用\"x\"來分割，留下厚度=index[1]\n"
   ]
  },
  {
   "cell_type": "code",
   "execution_count": null,
   "id": "600fb5f1",
   "metadata": {},
   "outputs": [],
   "source": [
    "df[\"厚度\"] = df[\"規格\"].str.split(pat=\"x\").str[0].str.strip()\n",
    "df[\"規格\"] = df[\"規格\"].str.split(pat=\"x\").str[1].str.strip()\n"
   ]
  },
  {
   "cell_type": "code",
   "execution_count": null,
   "id": "98133e91",
   "metadata": {},
   "outputs": [],
   "source": []
  },
  {
   "cell_type": "markdown",
   "id": "d9d9e295",
   "metadata": {},
   "source": [
    "■　Target →  料件編號（僅保留供應商代號）\n",
    "   * 重新定義料件編號 ==> 取string最後兩個字做為new value(區分供應商)\n",
    "   * 注意：如果沒加.str，直接放入index會變成df[\"料件編號\"]的index順序(e.g. df[\"料件編號\"][18:] >>> 跳出第18筆以後的資料，在此之前為none）\n"
   ]
  },
  {
   "cell_type": "code",
   "execution_count": null,
   "id": "0ad550d3",
   "metadata": {},
   "outputs": [],
   "source": [
    "df[\"料件編號\"] = df[\"料件編號\"].str[18:]\n"
   ]
  },
  {
   "cell_type": "code",
   "execution_count": null,
   "id": "7bed2fde",
   "metadata": {},
   "outputs": [],
   "source": []
  },
  {
   "cell_type": "markdown",
   "id": "5a228464",
   "metadata": {},
   "source": [
    "### [品名欄位]資料變更 if necessary\n",
    " \n",
    "產品分類表(供應商代號-產品)\n",
    " \n",
    " - 袋子：DY-BOPP(L) => (20 ~ 30u),(40 ~ 50u)、LA-BOPP(L) => (20 ~ 30u),(40 ~ 50u)\n",
    " - 上光：CR-BOPP(亮)、MAT OPP(霧膜)、OD-絲絨膜、預塗式-霧\n",
    " - 彩藝：CR-單面FOH (CS)]、OA-BOPP(20 ~ 40u)、OA＆DJ-PET12u、DS-藥袋PET23u、OU-CPP(20 ~ 60u)、CL＆OA-NYLON、NYLON同步、\n",
    "   DB＆1X-AL、AY、DS＆OA-電鍍PET(一般、雙面電鍍)、OU-電鍍CPP25u、CR-MOP20u、DS-KOP、KPET、KNY\n"
   ]
  },
  {
   "cell_type": "markdown",
   "id": "e434510a",
   "metadata": {
    "ExecuteTime": {
     "end_time": "2021-08-16T13:01:06.095699Z",
     "start_time": "2021-08-16T13:01:06.071458Z"
    }
   },
   "source": [
    "■　Target → 袋子\n",
    "\n",
    "**BOPP(L)**\n",
    "    \n",
    "   1. 依據厚度，後面加上thin(20 ~ 25u),thick(30 ~ 50u)，再區分為寶燕or金田\n",
    "   2. 注意：使用.str.contains時，如果沒有要使用正則表達法，記得將regex參數改為False(default value = True)\n"
   ]
  },
  {
   "cell_type": "code",
   "execution_count": null,
   "id": "ab34f46e",
   "metadata": {},
   "outputs": [],
   "source": [
    "df.loc[(df[\"品名\"] == \"BOPP(L)\") & (df[\"料件編號\"] == \"LA\") & (df[\"厚度\"].isin([\"020\", \"025\"])), \"品名\"] = \"BOPP(L)-寶燕-thin\"\n",
    "df.loc[(df[\"品名\"] == \"BOPP(L)\") & (df[\"料件編號\"] == \"LA\") & (df[\"厚度\"].isin([\"030\", \"040\", \"050\"])), \"品名\"] = \"BOPP(L)-寶燕-thick\"\n",
    "df.loc[(df[\"品名\"] == \"BOPP(L)\") & (df[\"料件編號\"] == \"DY\") & (df[\"厚度\"].isin([\"020\", \"025\"])), \"品名\"] = \"BOPP(L)-金田-thin\"\n",
    "df.loc[(df[\"品名\"] == \"BOPP(L)\") & (df[\"料件編號\"] == \"DY\") & (df[\"厚度\"].isin([\"030\", \"040\", \"050\"])), \"品名\"] = \"BOPP(L)-金田-thick\"\n"
   ]
  },
  {
   "cell_type": "code",
   "execution_count": null,
   "id": "440e45d5",
   "metadata": {},
   "outputs": [],
   "source": []
  },
  {
   "attachments": {},
   "cell_type": "markdown",
   "id": "35375d07",
   "metadata": {},
   "source": [
    "■　Target → 上光\n",
    "\n",
    "  **MAT OPP**\n",
    "   * 依據厚度，區分為（上光）15u &（彩藝）20u\n",
    "   * 資料中出現MAT OPP ( MTc )，視為上光品"
   ]
  },
  {
   "cell_type": "code",
   "execution_count": null,
   "id": "70aa77be",
   "metadata": {},
   "outputs": [],
   "source": [
    "df.loc[(df[\"品名\"].str.contains(\"MAT OPP\", regex=False)) & (df[\"厚度\"] == \"015\"), \"品名\"] = \"MAT OPP(上光)\"\n",
    "df.loc[(df[\"品名\"] == \"MAT OPP\") & (df[\"厚度\"] == \"020\"), \"品名\"] = \"MAT OPP(彩藝)\""
   ]
  },
  {
   "cell_type": "code",
   "execution_count": null,
   "id": "aeb647b7",
   "metadata": {},
   "outputs": [],
   "source": []
  },
  {
   "cell_type": "markdown",
   "id": "166881a1",
   "metadata": {},
   "source": [
    "■　Target → 彩藝\n",
    "\n",
    "**PET**\n",
    "  * 依據厚度，後面加上（彩藝）12u &（藥袋）19+23u，其他厚度不計入（36,50,75）"
   ]
  },
  {
   "cell_type": "code",
   "execution_count": null,
   "id": "e3b002a9",
   "metadata": {},
   "outputs": [],
   "source": [
    "df.loc[(df[\"品名\"] == \"PET\") & (df[\"厚度\"] == \"012\"), \"品名\"] = \"PET(彩藝)\"\n",
    "df.loc[(df[\"品名\"] == \"PET\") & (df[\"厚度\"].isin([\"019\", \"023\"])), \"品名\"] = \"PET(藥袋)\"\n"
   ]
  },
  {
   "cell_type": "markdown",
   "id": "52f3e5f1",
   "metadata": {},
   "source": [
    " **NYLON**   \n",
    "   * NYLON區分成NYLON(異步) & NYLON(同步)\n",
    "   * 同步的NYLON FILM ( NS ) 存在一些空白格，導致計算差異，使用兩個conditions（品名包含\"NS\"＆料件編號為0A）來過濾"
   ]
  },
  {
   "cell_type": "code",
   "execution_count": null,
   "id": "95d38c83",
   "metadata": {},
   "outputs": [],
   "source": [
    "df.loc[(df[\"品名\"] == \"NYLON FILM\"), \"品名\"] = \"NYLON\"\n",
    "df.loc[(df[\"品名\"].str.contains(\"NS\", regex=False)) & (df[\"料件編號\"] == \"0A\"), \"品名\"] = \"NYLON同步\""
   ]
  },
  {
   "cell_type": "markdown",
   "id": "c3af075e",
   "metadata": {},
   "source": [
    "**AL**\n",
    "   * 將AL FOIL & AY FOIL合併計算\n"
   ]
  },
  {
   "cell_type": "code",
   "execution_count": null,
   "id": "8c5b17d3",
   "metadata": {},
   "outputs": [],
   "source": [
    "df.loc[(df[\"品名\"].str.contains(\"FOIL\",regex=False)),\"品名\"] = \"AL\""
   ]
  },
  {
   "cell_type": "code",
   "execution_count": null,
   "id": "8210db39",
   "metadata": {},
   "outputs": [],
   "source": []
  },
  {
   "cell_type": "markdown",
   "id": "e446af0a",
   "metadata": {},
   "source": [
    "### 新增業界欄位\n",
    "- 方法 1\n",
    " * 資料清理與品名欄位調整完成後，新增業界欄位，使最終結果出來能依據業界別來分類，一目瞭然\n",
    " * 使用字典將所有品項與key綁定"
   ]
  },
  {
   "cell_type": "code",
   "execution_count": null,
   "id": "3de86a90",
   "metadata": {},
   "outputs": [],
   "source": [
    "whole_product_type_dict ={\"BOPP(L)-寶燕-thin\":\"袋子\",\"BOPP(L)-寶燕-thick\":\"袋子\",\"BOPP(L)-金田-thin\":\"袋子\",\"BOPP(L)-金田-thick\":\"袋子\",\n",
    "                          \"BOPP(亮)\":\"上光\",\"MAT OPP(上光)\":\"上光\",\"絲絨膜\":\"上光\",\"預塗式-霧\":\"上光\",\n",
    "                          \"單面FOH (CS)\":\"彩藝\",\"BOPP\":\"彩藝\",\"CPP\":\"彩藝\",\"PET(彩藝)\":\"彩藝\",\"PET(藥袋)\":\"彩藝\",\"NYLON\":\"彩藝\",\"NYLON同步\":\"彩藝\",\"AL\":\"彩藝\",\"電鍍PET\":\"彩藝\",\"雙面電鍍PET\":\"彩藝\",\"MCPP\":\"彩藝\",\"MAT OPP(彩藝)\":\"彩藝\",\"KOP\":\"彩藝\",\"K-PET\":\"彩藝\",\"K-NYLON FILM (N)\":\"彩藝\"\n",
    "                          }\n",
    "\n",
    "df[\"業界\"] = df[\"品名\"].map(whole_product_type_dict)\n",
    "print(\"最終資料格式表\",\"==\"*40)\n",
    "print(df)"
   ]
  },
  {
   "cell_type": "markdown",
   "id": "c6291b04",
   "metadata": {},
   "source": [
    "- 方法 2\n",
    " * np.select() 較為整齊\n"
   ]
  },
  {
   "cell_type": "code",
   "execution_count": null,
   "id": "356c57bd",
   "metadata": {},
   "outputs": [],
   "source": [
    "condition = [df[\"品名\"].isin([\"BOPP(L)-寶燕-thin\",\"BOPP(L)-寶燕-thick\",\"BOPP(L)-金田-thin\",\"BOPP(L)-金田-thick\"]),\n",
    "             df[\"品名\"].isin([\"BOPP(亮)\",\"MAT OPP(上光)\",\"絲絨膜\",\"預塗式-霧\"]),\n",
    "             df[\"品名\"].isin([\"單面FOH (CS)\", \"BOPP\", \"CPP\", \"PET(彩藝)\", \"PET(藥袋)\", \"CPP\", \"NYLON\",\"NYLON同步\", \"AL\", \"電鍍PET\",\"雙面電鍍PET\", \"MCPP\", \"MAT OPP(彩藝)\",\"KOP\", \"K-PET\", \"K-NYLON FILM (N)\"]),\n",
    "             df[\"品名\"].isin([\"補強帶( 珠光膜 )\",\"PVC 圓點(Y)\"])]\n",
    "\n",
    "product_field = [\"袋子\",\"上光\",\"彩藝\",\"其他\"]\n",
    "\n",
    "df[\"業界\"] = np.select(condition,product_field, default=\"Useless\")\n",
    "df = df.loc[df[\"業界\"] != \"Useless\"]"
   ]
  },
  {
   "cell_type": "code",
   "execution_count": null,
   "id": "89839cc7",
   "metadata": {},
   "outputs": [],
   "source": []
  },
  {
   "cell_type": "markdown",
   "id": "33df63b1",
   "metadata": {},
   "source": [
    "### 統計各產品庫存量"
   ]
  },
  {
   "cell_type": "code",
   "execution_count": null,
   "id": "ba784a14",
   "metadata": {},
   "outputs": [],
   "source": [
    "amount = round(df.groupby([\"業界\",\"品名\"]).sum()[\"換算後庫存量\"]/1000, 1)\n",
    "print(\"各產品庫存量\",\"==\"*40)\n",
    "print(amount)"
   ]
  }
 ],
 "metadata": {
  "kernelspec": {
   "display_name": "Python 3",
   "language": "python",
   "name": "python3"
  },
  "language_info": {
   "codemirror_mode": {
    "name": "ipython",
    "version": 3
   },
   "file_extension": ".py",
   "mimetype": "text/x-python",
   "name": "python",
   "nbconvert_exporter": "python",
   "pygments_lexer": "ipython3",
   "version": "3.6.8"
  },
  "toc": {
   "base_numbering": 1,
   "nav_menu": {},
   "number_sections": true,
   "sideBar": true,
   "skip_h1_title": false,
   "title_cell": "Table of Contents",
   "title_sidebar": "Contents",
   "toc_cell": false,
   "toc_position": {},
   "toc_section_display": true,
   "toc_window_display": true
  },
  "varInspector": {
   "cols": {
    "lenName": 16,
    "lenType": 16,
    "lenVar": 40
   },
   "kernels_config": {
    "python": {
     "delete_cmd_postfix": "",
     "delete_cmd_prefix": "del ",
     "library": "var_list.py",
     "varRefreshCmd": "print(var_dic_list())"
    },
    "r": {
     "delete_cmd_postfix": ") ",
     "delete_cmd_prefix": "rm(",
     "library": "var_list.r",
     "varRefreshCmd": "cat(var_dic_list()) "
    }
   },
   "types_to_exclude": [
    "module",
    "function",
    "builtin_function_or_method",
    "instance",
    "_Feature"
   ],
   "window_display": false
  }
 },
 "nbformat": 4,
 "nbformat_minor": 5
}
